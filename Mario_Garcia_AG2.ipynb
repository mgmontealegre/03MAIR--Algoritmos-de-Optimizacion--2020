{
  "nbformat": 4,
  "nbformat_minor": 0,
  "metadata": {
    "colab": {
      "name": "Mario Garcia - AG2.ipynb",
      "provenance": [],
      "collapsed_sections": [],
      "authorship_tag": "ABX9TyNuNUh1L/XK5Nj2e1/YG4v2",
      "include_colab_link": true
    },
    "kernelspec": {
      "name": "python3",
      "display_name": "Python 3"
    }
  },
  "cells": [
    {
      "cell_type": "markdown",
      "metadata": {
        "id": "view-in-github",
        "colab_type": "text"
      },
      "source": [
        "<a href=\"https://colab.research.google.com/github/mgmontealegre/03MAIR--Algoritmos-de-Optimizacion--2020/blob/master/Mario_Garcia_AG2.ipynb\" target=\"_parent\"><img src=\"https://colab.research.google.com/assets/colab-badge.svg\" alt=\"Open In Colab\"/></a>"
      ]
    },
    {
      "cell_type": "markdown",
      "metadata": {
        "id": "DlCGLClRh4du",
        "colab_type": "text"
      },
      "source": [
        "\n",
        "Actividad Guiada 2 de Algoritmos de Optimización"
      ]
    },
    {
      "cell_type": "markdown",
      "metadata": {
        "id": "yHl6xZBuh7Wl",
        "colab_type": "text"
      },
      "source": [
        "Mario García"
      ]
    },
    {
      "cell_type": "markdown",
      "metadata": {
        "id": "Lkx3pZcqh-hz",
        "colab_type": "text"
      },
      "source": [
        "Importamos las librerías necesarias"
      ]
    },
    {
      "cell_type": "code",
      "metadata": {
        "id": "CjYENkhWiF3T",
        "colab_type": "code",
        "colab": {}
      },
      "source": [
        "import numpy as np\n",
        "import random\n",
        "import itertools\n",
        "from functools import wraps\n",
        "import math\n",
        "import matplotlib.pyplot as plt\n",
        "from scipy.optimize import approx_fprime as gradiente"
      ],
      "execution_count": null,
      "outputs": []
    },
    {
      "cell_type": "markdown",
      "metadata": {
        "id": "vodJ3Z36it8i",
        "colab_type": "text"
      },
      "source": [
        "Viaje por el río"
      ]
    },
    {
      "cell_type": "code",
      "metadata": {
        "id": "nRRpjj9BixBE",
        "colab_type": "code",
        "colab": {
          "base_uri": "https://localhost:8080/",
          "height": 89
        },
        "outputId": "1e6bb87b-61bc-4c8d-d795-3364d6a1d997"
      },
      "source": [
        "tarifas=[[0,5,4,3,999,999,999],\n",
        "        [999,0,999,2,3,999,1],\n",
        "        [999,999,0,1,999,4,10],\n",
        "        [999,999,999,0,5,6,9],\n",
        "        [999,999,999,999,0,999,4],\n",
        "        [999,999,999,999,999,0,3],\n",
        "        [999,999,999,999,999,999,0]]\n",
        "\n",
        "def precio (tarifas):\n",
        "  n = len(tarifas[0])\n",
        "  precio = [[9999]*n for i in [9999]*n ]\n",
        "  path = [[\"\"]*n for i in [\"\"]*n]\n",
        "  \n",
        "  for i in range(n-1):\n",
        "      for j in range(i+1,n):\n",
        "        minimum = tarifas[i][j]\n",
        "        path[i][j] = i\n",
        "        \n",
        "        for k in range (i,j):\n",
        "          if precio[i][k] + tarifas[k][j] < minimum:\n",
        "            minimum = precio[i][k] + tarifas[k][j]\n",
        "            path[i][j] = k\n",
        "        precio[i][j] = minimum\n",
        "  return precio, path\n",
        "\n",
        "precio,path= precio(tarifas)\n",
        "print(precio)\n",
        "print(path)\n",
        "\n",
        "def calcular_ruta(path, origen, destino):\n",
        "  if origen==destino:\n",
        "    return origen\n",
        "  else:\n",
        "    return str(calcular_ruta(path, origen, path[origen][destino])) + '-' + str(path[origen][destino])\n",
        "  \n",
        "calcular_ruta(path,1,5)"
      ],
      "execution_count": null,
      "outputs": [
        {
          "output_type": "stream",
          "text": [
            "[[9999, 5, 4, 3, 8, 8, 6], [9999, 9999, 999, 2, 3, 8, 1], [9999, 9999, 9999, 1, 6, 4, 7], [9999, 9999, 9999, 9999, 5, 6, 9], [9999, 9999, 9999, 9999, 9999, 999, 4], [9999, 9999, 9999, 9999, 9999, 9999, 3], [9999, 9999, 9999, 9999, 9999, 9999, 9999]]\n",
            "[['', 0, 0, 0, 1, 2, 1], ['', '', 1, 1, 1, 3, 1], ['', '', '', 2, 3, 2, 5], ['', '', '', '', 3, 3, 3], ['', '', '', '', '', 4, 4], ['', '', '', '', '', '', 5], ['', '', '', '', '', '', '']]\n"
          ],
          "name": "stdout"
        },
        {
          "output_type": "execute_result",
          "data": {
            "application/vnd.google.colaboratory.intrinsic": {
              "type": "string"
            },
            "text/plain": [
              "'1-1-3'"
            ]
          },
          "metadata": {
            "tags": []
          },
          "execution_count": 1
        }
      ]
    },
    {
      "cell_type": "markdown",
      "metadata": {
        "id": "lBVWKXjrjCTi",
        "colab_type": "text"
      },
      "source": [
        "Búsqueda en grafos, ramificación y poda (asignación de tareas)"
      ]
    },
    {
      "cell_type": "code",
      "metadata": {
        "id": "2XyiadWgjI0J",
        "colab_type": "code",
        "colab": {
          "base_uri": "https://localhost:8080/",
          "height": 102
        },
        "outputId": "82cd38c8-8328-4f8d-cc5c-f37ee1b6c35a"
      },
      "source": [
        "def calcular_tiempo(f):\n",
        "  @wraps(f)\n",
        "  def cronometro(*args, **kwargs):\n",
        "    t_inicial = time()\n",
        "    salida= f(*args,**kwargs)\n",
        "    t_final= time()\n",
        "    print('Tiempo transcurrido ( en segundos): {}', format(t_final - t_inicial))\n",
        "    return salida\n",
        "  return cronometro\n",
        "\n",
        "COSTES=[[11,12,18,40],\n",
        "       [14,15,13,22],\n",
        "       [11,17,19,23],\n",
        "       [17,14,20,28]]\n",
        "\n",
        "def valor(S,COSTES):\n",
        "    VALOR=0\n",
        "    for i in range(len(S)):\n",
        "      VALOR+= COSTES[S[i]][i]\n",
        "      \n",
        "    return VALOR\n",
        "  \n",
        "valor ((0,1,2,3), COSTES)\n",
        "\n",
        "\n",
        "def fuerza_bruta(COSTES):\n",
        "    mejor_valor=10e10\n",
        "    mejor_solucion= ''\n",
        "    \n",
        "    for S in list(itertools.permutations(range(len(COSTES)))):\n",
        "      valor_tmp = valor(S, COSTES)\n",
        "      if valor_tmp < mejor_valor:\n",
        "        mejor_solucion=S\n",
        "        mejor_valor=valor_tmp\n",
        "        \n",
        "    print(\"La mejor solucion es :\" ,mejor_solucion)\n",
        "    \n",
        "fuerza_bruta(COSTES)\n",
        "\n",
        "\n",
        "def CI(S,COSTES):\n",
        "  VALOR=0\n",
        "  #Valores Establecidos\n",
        "  for i in range(len(S)):\n",
        "    VALOR+= COSTES[i][S[i]]\n",
        "    \n",
        " #Estimacion\n",
        "  for i in range( len(COSTES)):\n",
        "    if i not in S:\n",
        "      VALOR+= min([COSTES[j][i] for j in range(len(S), len(COSTES))])\n",
        "  return VALOR    \n",
        "\n",
        "\n",
        "CI((2,0), COSTES)\n",
        "\n",
        "def crear_hijos(NODO, N):\n",
        "  HIJOS = []\n",
        "  for i in range(N):\n",
        "    if i not in NODO:\n",
        "      HIJOS:append({'S': NODO+(i,)})\n",
        "  return HIJOS\n",
        "\n",
        "\n",
        "crear_hijos((0,2), 4)\n",
        "\n",
        "def ramificacion_y_poda(COSTES):\n",
        "  DIMENSION= len(COSTES)\n",
        "  #(0,1,2,3)\n",
        "  MEJOR_SOLUCION= tuple(i for i in range(DIMENSION))\n",
        "  \n",
        "  CotaSup= valor(MEJOR_SOLUCION,COSTES)\n",
        "  \n",
        "  NODOS=[]\n",
        "  NODOS.append({'S':(), 'ci': CI((), COSTES) })\n",
        "  \n",
        " \n",
        "  \n",
        "  iteracion=0\n",
        "  \n",
        "  while (len(NODOS)>0):\n",
        "    iteracion+=1\n",
        "    print('\\n#', iteracion)\n",
        "    \n",
        "    nodo_prometedor = min(NODOS, key=lambda x:x['ci'])\n",
        "    \n",
        "    #Hijos\n",
        "    \n",
        "    HIJOS= [{'S':x['S'], 'ci': CI(x['S'], COSTES)} for x in crear_hijos(nodo_prometedor['S'], DIMENSION)]\n",
        "    \n",
        "    NODO_FINAL = [x for x in HIJOS if len(x['S']) ==DIMENSION]\n",
        "    \n",
        "    if len(NODO_FINAL)>0:\n",
        "      if NODO_FINAL[0]['ci']< CotaSup:\n",
        "        CotaSup=NODO_FINAL[0]['ci']\n",
        "        MEJOR_SOLUCION=NODO_FINAL[0]\n",
        "        \n",
        "    #poda    \n",
        "    HIJOS=[x for x in HIJOS if x['ci']<CotaSup]\n",
        "    \n",
        "    #Eliminamos el nodo expandido\n",
        "    NODOS= [ x for x in NODOS if x['S'] != nodo_prometedor['S']]\n",
        "    #Añadimos los hijos\n",
        "    NODOS.extend(HIJOS)\n",
        "    \n",
        "    print(NODOS)\n",
        "    \n",
        "  print('La mejor solucion es:', MEJOR_SOLUCION)\n",
        "  \n",
        "ramificacion_y_poda(COSTES)"
      ],
      "execution_count": null,
      "outputs": [
        {
          "output_type": "stream",
          "text": [
            "La mejor solucion es : (0, 3, 1, 2)\n",
            "\n",
            "# 1\n",
            "[]\n",
            "La mejor solucion es: (0, 1, 2, 3)\n"
          ],
          "name": "stdout"
        }
      ]
    },
    {
      "cell_type": "markdown",
      "metadata": {
        "id": "ZgYeXBrPjX5K",
        "colab_type": "text"
      },
      "source": [
        "Descenso gradiente"
      ]
    },
    {
      "cell_type": "code",
      "metadata": {
        "id": "MoYZ2HPPjatC",
        "colab_type": "code",
        "colab": {}
      },
      "source": [
        "# Generamos la función\n",
        "f = lambda X: np.sin(1/2 * X[0]**2 - 1/4 * X[1]**2 + 3) * np.cos(2 * X[0] + 1 - np.e**X[1])\n",
        " \n",
        "res, rango = 100, 4\n",
        "X = np.linspace(-rango, rango, res)\n",
        "Y = np.linspace(-rango, rango, res)\n",
        "Z = np.zeros((res, res))\n",
        " \n",
        "for ix,x in enumerate(X):\n",
        "  for iy,y in enumerate(Y):\n",
        "    Z[iy,ix] = f([x,y])\n",
        " \n",
        "plt.contourf(X, Y, Z, res)\n",
        "plt.colorbar()\n",
        " \n",
        "P = [ np.random.uniform(-3,3), np.random.uniform(-3,3) ]\n",
        "plt.plot(P[0], P[1], 'o', c='white')\n",
        " \n",
        "# Tasa de aprendizaje\n",
        "TA = 0.005 \n",
        " \n",
        "for _ in range(500):\n",
        "  grad = gradiente(P, f, epsilon=1e-6)\n",
        "  P[0], P[1] = P[0] - TA*grad[0], P[1]-TA*grad[1]\n",
        "  plt.plot(P[0], P[1], 'o', c='red')\n",
        "  \n",
        "plt.plot(P[0], P[1], 'o', c='green')\n",
        "plt.show()\n",
        "print('Solucion:', P, f(P))"
      ],
      "execution_count": null,
      "outputs": []
    }
  ]
}