{
  "nbformat": 4,
  "nbformat_minor": 0,
  "metadata": {
    "colab": {
      "name": "Mario Garcia - AG1.ipynb",
      "provenance": [],
      "collapsed_sections": [],
      "authorship_tag": "ABX9TyPqhmggrzmDfUYGUtPb3/+p",
      "include_colab_link": true
    },
    "kernelspec": {
      "name": "python3",
      "display_name": "Python 3"
    }
  },
  "cells": [
    {
      "cell_type": "markdown",
      "metadata": {
        "id": "view-in-github",
        "colab_type": "text"
      },
      "source": [
        "<a href=\"https://colab.research.google.com/github/mgmontealegre/03MAIR--Algoritmos-de-Optimizacion--2020/blob/master/Mario_Garcia_AG1.ipynb\" target=\"_parent\"><img src=\"https://colab.research.google.com/assets/colab-badge.svg\" alt=\"Open In Colab\"/></a>"
      ]
    },
    {
      "cell_type": "markdown",
      "metadata": {
        "id": "YcmiDxBQUxoQ",
        "colab_type": "text"
      },
      "source": [
        "Actividad Guiada 1 de Algoritmos de Optimización\n"
      ]
    },
    {
      "cell_type": "markdown",
      "metadata": {
        "id": "zObiKTd9eT-E",
        "colab_type": "text"
      },
      "source": [
        "Mario García"
      ]
    },
    {
      "cell_type": "markdown",
      "metadata": {
        "id": "gqfv21K6fcgQ",
        "colab_type": "text"
      },
      "source": [
        "Importamos las librerías necesarias"
      ]
    },
    {
      "cell_type": "code",
      "metadata": {
        "id": "f8LQ_gI3Nn8f",
        "colab_type": "code",
        "colab": {}
      },
      "source": [
        "import numpy as np\n",
        "import random\n",
        "import matplotlib.pyplot as plt"
      ],
      "execution_count": 3,
      "outputs": []
    },
    {
      "cell_type": "markdown",
      "metadata": {
        "id": "qHr1IapqeorA",
        "colab_type": "text"
      },
      "source": [
        "Algoritmo de ordenación"
      ]
    },
    {
      "cell_type": "code",
      "metadata": {
        "id": "74uaBKSfd-OU",
        "colab_type": "code",
        "colab": {
          "base_uri": "https://localhost:8080/",
          "height": 34
        },
        "outputId": "f2dc4b48-16c3-4150-a653-d2821e24e8e2"
      },
      "source": [
        "def bubble_sort(numbers):\n",
        "    permutation = True\n",
        "    iteración = 0\n",
        "    while permutation == True:\n",
        "        permutation = False\n",
        "        iteración = iteración + 1\n",
        "        for actual in range(0, len(numbers) - iteración):\n",
        "            if numbers[actual] > numbers[actual + 1]:\n",
        "                permutation = True\n",
        "                numbers[actual], numbers[actual + 1] = \\\n",
        "                numbers[actual + 1],numbers[actual]\n",
        "    return numbers\n",
        "\n",
        "numbers = [1000,30,32.5,0.4, 620,-150]\n",
        "solucion = bubble_sort(numbers)\n",
        "print(solucion)\n"
      ],
      "execution_count": 4,
      "outputs": [
        {
          "output_type": "stream",
          "text": [
            "[-150, 0.4, 30, 32.5, 620, 1000]\n"
          ],
          "name": "stdout"
        }
      ]
    },
    {
      "cell_type": "markdown",
      "metadata": {
        "id": "6oZ5OXCofomk",
        "colab_type": "text"
      },
      "source": [
        "Algoritmo voraz"
      ]
    },
    {
      "cell_type": "code",
      "metadata": {
        "id": "nNAVb32Cfr4F",
        "colab_type": "code",
        "colab": {
          "base_uri": "https://localhost:8080/",
          "height": 34
        },
        "outputId": "2a6ef952-6e14-4dcc-c149-8b76cfd37268"
      },
      "source": [
        "Sistema_Monetario =[25, 10, 5 ,1]\n",
        "def Devolver_Cambio (cantidad , Sistema_Monetario):\n",
        "    n = len(Sistema_Monetario)\n",
        "    solucion = [0 for i in range (n) ]\n",
        "    for i in range (n) :\n",
        "        while Sistema_Monetario [i] < cantidad :\n",
        "            cantidad = cantidad - Sistema_Monetario [i]\n",
        "            solucion [i] = solucion [i] + 1\n",
        "            return solucion\n",
        "prueba = Devolver_Cambio(28,Sistema_Monetario)\n",
        "print(prueba)"
      ],
      "execution_count": 5,
      "outputs": [
        {
          "output_type": "stream",
          "text": [
            "[1, 0, 0, 0]\n"
          ],
          "name": "stdout"
        }
      ]
    },
    {
      "cell_type": "markdown",
      "metadata": {
        "id": "rBtec0Nff9pP",
        "colab_type": "text"
      },
      "source": [
        "Algoritmo Backtracking"
      ]
    },
    {
      "cell_type": "code",
      "metadata": {
        "id": "3SBQ-ZMYf9GM",
        "colab_type": "code",
        "colab": {}
      },
      "source": [
        "Reinas = 50\n",
        "\n",
        "def evalNQueens(individual):\n",
        "    \n",
        "    size = len(individual)\n",
        "    diagonal_izda_dcha = [0] * (2*size-1)\n",
        "    diagonal_dcha_izda = [0] * (2*size-1)\n",
        "    \n",
        "    for i in range(size): \n",
        "        diagonal_izda_dcha[i+individual[i]] += 1 \n",
        "        diagonal_dcha_izda[size-1-i+individual[i]] += 1 \n",
        "    \n",
        "    suma = 0\n",
        "    for i in range(2*size-1): # recorremos todas las diagonales\n",
        "        if diagonal_izda_dcha[i] > 1: # hay ataques\n",
        "            suma += diagonal_izda_dcha[i] - 1 # n-1 ataques\n",
        "        if diagonal_dcha_izda[i] > 1:\n",
        "            suma += diagonal_dcha_izda[i] - 1\n",
        "    return suma,\n",
        "\n",
        "creator.create(\"FitnessMin\", base.Fitness, weights=(-1.0,))\n",
        "creator.create(\"Individual\", list, fitness=creator.FitnessMin)\n",
        "\n",
        "toolbox = base.Toolbox()\n",
        "toolbox.register(\"permutation\", random.sample, range(Reinas), Reinas)\n",
        "\n",
        "toolbox.register(\"individual\", tools.initIterate, creator.Individual, toolbox.permutation)\n",
        "toolbox.register(\"population\", tools.initRepeat, list, toolbox.individual)\n",
        "\n",
        "toolbox.register(\"evaluate\", evalNQueens)\n",
        "\n",
        "toolbox.register(\"mate\", tools.cxPartialyMatched)\n",
        "toolbox.register(\"mutate\", tools.mutShuffleIndexes, indpb=2.0/Reinas)\n",
        "toolbox.register(\"select\", tools.selTournament, tournsize=3)\n",
        "\n",
        "def main():\n",
        "    seed=0\n",
        "    random.seed(seed)\n",
        "\n",
        "    pop = toolbox.population(n=300)\n",
        "    hof = tools.HallOfFame(1) # objeto que almacena el mejor individuo\n",
        "    stats = tools.Statistics(lambda ind: ind.fitness.values) # objeto para calcular estadísticas\n",
        "    stats.register(\"Avg\", np.mean)\n",
        "    stats.register(\"Std\", np.std)\n",
        "    stats.register(\"Min\", np.min)\n",
        "    stats.register(\"Max\", np.max)\n",
        "\n",
        "    algorithms.eaSimple(pop, toolbox, cxpb=0.5, mutpb=0.2, ngen=100, stats=stats,\n",
        "                        halloffame=hof, verbose=True) # algoritmo genético como \"caja negra\"\n",
        "\n",
        "    return pop, stats, hof\n",
        "\n",
        "if __name__ == \"__main__\":\n",
        "    pop, stats, best = main()\n",
        "    print(best)\n",
        "    print(best[0].fitness.values)\n",
        "    y = best[0]\n",
        "    x= range(Reinas)\n",
        "    x= np.array(x)\n",
        "    print(x)\n",
        "    y = np.array(y)\n",
        "    print(y)    \n",
        "    x = x + 0.5\n",
        "    y = y + 0.5\n",
        "    plt.figure()\n",
        "    plt.scatter(x,y)\n",
        "    plt.xlim(0,Reinas)\n",
        "    plt.ylim(0,Reinas)\n",
        "    plt.xticks(x-0.5)\n",
        "    plt.yticks(x-0.5)\n",
        "    plt.grid(True)\n",
        "    plt.title(u\"Mejor Individuo\")\n",
        "    plt.show()"
      ],
      "execution_count": null,
      "outputs": []
    },
    {
      "cell_type": "markdown",
      "metadata": {
        "id": "YZTESIsLgFuF",
        "colab_type": "text"
      },
      "source": [
        "Algoritmo Divide y vencerás"
      ]
    },
    {
      "cell_type": "code",
      "metadata": {
        "id": "dtsgoWN3gJcF",
        "colab_type": "code",
        "colab": {
          "base_uri": "https://localhost:8080/",
          "height": 544
        },
        "outputId": "4477aa10-2a10-4e88-e33b-0986d8657808"
      },
      "source": [
        "def Torres_Hanoi (discos,TorreInicial=1,TorreIntermedia=2,TorreFinal=3):\n",
        "    if discos==1:\n",
        "        print('Movemos el disco de la torre', TorreInicial, \"a la torre\",TorreFinal)\n",
        "    else:\n",
        "        Torres_Hanoi(discos-1,TorreInicial,TorreFinal,TorreIntermedia)\n",
        "        print('Movemos el disco de la torre', TorreInicial, \"a la torre\",TorreFinal)\n",
        "        Torres_Hanoi (discos-1,TorreIntermedia,TorreInicial,TorreFinal)\n",
        "    return\n",
        "\n",
        "Torres_Hanoi(5)"
      ],
      "execution_count": 6,
      "outputs": [
        {
          "output_type": "stream",
          "text": [
            "Movemos el disco de la torre 1 a la torre 3\n",
            "Movemos el disco de la torre 1 a la torre 2\n",
            "Movemos el disco de la torre 3 a la torre 2\n",
            "Movemos el disco de la torre 1 a la torre 3\n",
            "Movemos el disco de la torre 2 a la torre 1\n",
            "Movemos el disco de la torre 2 a la torre 3\n",
            "Movemos el disco de la torre 1 a la torre 3\n",
            "Movemos el disco de la torre 1 a la torre 2\n",
            "Movemos el disco de la torre 3 a la torre 2\n",
            "Movemos el disco de la torre 3 a la torre 1\n",
            "Movemos el disco de la torre 2 a la torre 1\n",
            "Movemos el disco de la torre 3 a la torre 2\n",
            "Movemos el disco de la torre 1 a la torre 3\n",
            "Movemos el disco de la torre 1 a la torre 2\n",
            "Movemos el disco de la torre 3 a la torre 2\n",
            "Movemos el disco de la torre 1 a la torre 3\n",
            "Movemos el disco de la torre 2 a la torre 1\n",
            "Movemos el disco de la torre 2 a la torre 3\n",
            "Movemos el disco de la torre 1 a la torre 3\n",
            "Movemos el disco de la torre 2 a la torre 1\n",
            "Movemos el disco de la torre 3 a la torre 2\n",
            "Movemos el disco de la torre 3 a la torre 1\n",
            "Movemos el disco de la torre 2 a la torre 1\n",
            "Movemos el disco de la torre 2 a la torre 3\n",
            "Movemos el disco de la torre 1 a la torre 3\n",
            "Movemos el disco de la torre 1 a la torre 2\n",
            "Movemos el disco de la torre 3 a la torre 2\n",
            "Movemos el disco de la torre 1 a la torre 3\n",
            "Movemos el disco de la torre 2 a la torre 1\n",
            "Movemos el disco de la torre 2 a la torre 3\n",
            "Movemos el disco de la torre 1 a la torre 3\n"
          ],
          "name": "stdout"
        }
      ]
    }
  ]
}