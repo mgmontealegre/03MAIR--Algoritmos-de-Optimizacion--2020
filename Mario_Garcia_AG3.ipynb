{
  "nbformat": 4,
  "nbformat_minor": 0,
  "metadata": {
    "colab": {
      "name": "Mario Garcia - AG3.ipynb",
      "provenance": [],
      "collapsed_sections": [],
      "authorship_tag": "ABX9TyNq3QFMT2Gc2COk28CqcdAI",
      "include_colab_link": true
    },
    "kernelspec": {
      "name": "python3",
      "display_name": "Python 3"
    }
  },
  "cells": [
    {
      "cell_type": "markdown",
      "metadata": {
        "id": "view-in-github",
        "colab_type": "text"
      },
      "source": [
        "<a href=\"https://colab.research.google.com/github/mgmontealegre/03MAIR--Algoritmos-de-Optimizacion--2020/blob/master/Mario_Garcia_AG3.ipynb\" target=\"_parent\"><img src=\"https://colab.research.google.com/assets/colab-badge.svg\" alt=\"Open In Colab\"/></a>"
      ]
    },
    {
      "cell_type": "markdown",
      "metadata": {
        "id": "UYUWHdxAkPB1",
        "colab_type": "text"
      },
      "source": [
        "\n",
        "Actividad Guiada 3 de Algoritmos de Optimización"
      ]
    },
    {
      "cell_type": "markdown",
      "metadata": {
        "id": "cdTIYFyqkQ9J",
        "colab_type": "text"
      },
      "source": [
        "Mario García"
      ]
    },
    {
      "cell_type": "markdown",
      "metadata": {
        "id": "nqDcVzUNkjHI",
        "colab_type": "text"
      },
      "source": [
        "Importamos las librerías necesarias"
      ]
    },
    {
      "cell_type": "code",
      "metadata": {
        "id": "IFWGCjNikoo4",
        "colab_type": "code",
        "colab": {}
      },
      "source": [
        "import tsplib95\n",
        "import random\n",
        "from math import e\n",
        "import urllib.request"
      ],
      "execution_count": null,
      "outputs": []
    },
    {
      "cell_type": "markdown",
      "metadata": {
        "id": "7bepr64Sk_C4",
        "colab_type": "text"
      },
      "source": [
        "Búsqueda aleatoria"
      ]
    },
    {
      "cell_type": "code",
      "metadata": {
        "id": "rGWC98ljlCFo",
        "colab_type": "code",
        "colab": {}
      },
      "source": [
        "file = \"swiss42.tsp\"\n",
        "\n",
        "urllib.request.urlretrieve(\"http://elib.zib.de/pub/mp-testdata/tsp/tsplib/tsp/swiss42.tsp\", file)\n",
        "problem = tsplib95.load_problem(file)\n",
        "\n",
        "# Nodos \n",
        "Nodos = list(problem.get_nodes())\n",
        "# Aristas\n",
        "Aristas = list(problem.get_edges())\n",
        "\n",
        "def crear_solucion(Nodos):\n",
        "    solucion = [Nodos[0]]\n",
        "    for n in Nodos[1:]:\n",
        "        solucion = solucion + [random.choice(list(set(Nodos) - set({Nodos[0]}) - set(solucion)))]\n",
        "    return solucion\n",
        "\n",
        "def distancia(a,b,problem):\n",
        "    return problem.get_weight(a,b)\n",
        "\n",
        "def distancia_total(solucion, problem):\n",
        "    distancia_total = 0\n",
        "    for i in range(len(solucion)-1):\n",
        "        distancia_total += distancia(solucion[i],  solucion[i+1], problem)\n",
        "    return distancia_total + distancia(solucion[len(solucion)-1], solucion[0], problem)\n",
        "\n",
        "def busqueda_aleatoria(problem, N):\n",
        "    \n",
        "    Nodos = list(problem.get_nodes())\n",
        "    mejor_solucion = []\n",
        "    mejor_distancia = 10e100\n",
        "    \n",
        "    for i in range(N):\n",
        "        solucion = crear_solucion(Nodos)\n",
        "        distancia = distancia_total(solucion, problem)\n",
        "        \n",
        "        if distancia < mejor_distancia:\n",
        "            mejor_solucion = solucion\n",
        "            mejor_distancia = distancia\n",
        "\n",
        "    print(\"Mejor solución:\", mejor_solucion)\n",
        "    print(\"Distancia:\", mejor_distancia)\n",
        "    return mejor_solucion\n",
        "\n",
        "sol = busqueda_aleatoria(problem, 5000)"
      ],
      "execution_count": null,
      "outputs": []
    },
    {
      "cell_type": "markdown",
      "metadata": {
        "id": "mUDp9SBrlHmZ",
        "colab_type": "text"
      },
      "source": [
        "Búsqueda local"
      ]
    },
    {
      "cell_type": "code",
      "metadata": {
        "id": "19vG3t7clL8J",
        "colab_type": "code",
        "colab": {}
      },
      "source": [
        "def genera_vecina(solucion):\n",
        "    mejor_solucion = []\n",
        "    mejor_distancia = 10e100\n",
        "    for i in range(1, len(solucion) -1):\n",
        "        for j in range(i+1, len(solucion)):\n",
        "            vecina = solucion[:i] + [solucion[j]] + solucion[i+1:j] + [solucion[i]] + solucion[j+1:]\n",
        "            distancia_vecina = distancia_total(vecina, problem)\n",
        "            \n",
        "            if distancia_vecina <= mejor_distancia:\n",
        "                mejor_distancia = distancia_vecina\n",
        "                mejor_solucion = vecina\n",
        "    return mejor_solucion\n",
        "\n",
        "def busqueda_local(problem):\n",
        "    mejor_solucion = []\n",
        "    \n",
        "    solucion_referencia = crear_solucion(Nodos)\n",
        "    mejor_distancia = 10e100\n",
        "    \n",
        "    iteracion = 0 \n",
        "    while(1):\n",
        "        iteracion += 1\n",
        "        vecina = genera_vecina(solucion_referencia)\n",
        "        distancia_vecina = distancia_total(vecina, problem)\n",
        "        \n",
        "        if distancia_vecina < mejor_distancia:\n",
        "            mejor_solucion = copy.deepcopy(vecina)\n",
        "            mejor_distancia = distancia_vecina\n",
        "        else:\n",
        "            print(\"En la iteracion\" , iteracion, \", la mejor solución encontrada es: \", mejor_solucion)\n",
        "            print(\"Distancia: \", mejor_distancia)\n",
        "            return mejor_solucion\n",
        "\n",
        "solucion_referencia = vecina\n",
        "sol = busqueda_local(problem)"
      ],
      "execution_count": null,
      "outputs": []
    },
    {
      "cell_type": "markdown",
      "metadata": {
        "id": "cdoF73pPlSfh",
        "colab_type": "text"
      },
      "source": [
        "Recocido simulado (simulated annealing)"
      ]
    },
    {
      "cell_type": "code",
      "metadata": {
        "id": "6Ua-Rc-alW9P",
        "colab_type": "code",
        "colab": {}
      },
      "source": [
        "def genera_vecina_aleatorio(solucion):\n",
        "    i,j = sorted(random.sample(range(1, len(solucion)), 2))\n",
        "    return solucion[:i] + [solucion[j]] + solucion[i+1:j] + [solucion[i]] + solucion[j+1:]\n",
        "\n",
        "def probabilidad(T,d):\n",
        "    if random.random() <= math.exp(-1*d / T):\n",
        "        return True\n",
        "    else:\n",
        "        return False\n",
        "    \n",
        "def bajar_temperatura(T):\n",
        "    return T*.999\n",
        "\n",
        "def recocido_simulado(problem, TEMPERATURA = 1000):\n",
        "    solucion_referencia = crear_solucion(Nodos)\n",
        "    distancia_referencia = distancia_total(solucion_referencia, problem)\n",
        "    \n",
        "    mejor_solucion = []\n",
        "    mejor_distancia = 10e100\n",
        "    \n",
        "    N = 0\n",
        "    while TEMPERATURA > .0001:\n",
        "        N += 1\n",
        "        vecina = genera_vecina_aleatorio(solucion_referencia)\n",
        "        distancia_vecina = distancia_total(vecina, problem)\n",
        "        \n",
        "        if distancia_vecina < mejor_distancia:\n",
        "            mejor_solucion = vecina\n",
        "            mejor_distancia = distancia_vecina\n",
        "            \n",
        "        if distancia_vecina < distancia_referencia or probabilidad(TEMPERATURA, abs(distancia_referencia - distancia_vecina)):\n",
        "            solucion_referencia = copy.deepcopy(vecina)\n",
        "            distancia_referencia = distancia_vecina\n",
        "        \n",
        "        TEMPERATURA = bajar_temperatura(TEMPERATURA)\n",
        "        \n",
        "    print(\"La mejor solución encontrada es \", end = \"\")\n",
        "    print(mejor_solucion)\n",
        "    print(\"con una distancia total de \", end = \"\")\n",
        "    print(mejor_distancia)\n",
        "    return mejor_solucion\n",
        "\n",
        "sol = recocido_simulado(problem, 1000000)"
      ],
      "execution_count": null,
      "outputs": []
    },
    {
      "cell_type": "markdown",
      "metadata": {
        "id": "hx3ijqMVlcVP",
        "colab_type": "text"
      },
      "source": [
        "Colonia de hormigas"
      ]
    },
    {
      "cell_type": "code",
      "metadata": {
        "id": "OC_wy_24lhlX",
        "colab_type": "code",
        "colab": {}
      },
      "source": [
        "def Add_Nodo(problem, H, T):\n",
        "    Nodos = list(problem.get_nodes())\n",
        "    return random.choice(list(set(range(1,len(Nodos))) - set(H)))\n",
        "\n",
        "\n",
        "def Incrementa_Feromona(problem, T, H):\n",
        "    for i in range(len(H)-1):\n",
        "        T[H[i]][H[i+1]] += 1000/distancia_total(H, problem)\n",
        "    return T\n",
        "\n",
        "def Evaporar_Feromonas(T):\n",
        "    T = [[ max(T[i][j] - 0.3, 1) for i in range(len(Nodos))] for j in range(len(Nodos))]\n",
        "\n",
        "def hormigas(problem, N):\n",
        "    Nodos = list(problem.get_nodes())\n",
        "    Aristas = list(problem.get_edges())\n",
        "    \n",
        "    T = [[1 for _ in range(len(Nodos))] for _ in range(len(Nodos))]\n",
        "    Hormiga = [[0] for _ in range(N)]\n",
        "    \n",
        "    for h in range (N):\n",
        "        for i in range(len(Nodos) -1):\n",
        "            Nuevo_Nodo = Add_Nodo(problem, Hormiga[h], T)\n",
        "            Hormiga[h].append(Nuevo_Nodo)\n",
        "            \n",
        "        T = Incrementa_Feromona(problem, T, Hormiga[h])\n",
        "        T = Evaporar_Feromonas(T)\n",
        "\n",
        "    mejor_solucion = []\n",
        "    mejor_distancia = 10e100\n",
        "    \n",
        "    for h in range(N):\n",
        "        distancia_actual = distancia_total(Hormiga[h], problem)\n",
        "        if distancia_actual < mejor_distancia:\n",
        "            mejor_solucion = Hormiga[h]\n",
        "            mejor_distancia = distancia_actual\n",
        "\n",
        "sol = hormigas(problem, 100)"
      ],
      "execution_count": null,
      "outputs": []
    }
  ]
}